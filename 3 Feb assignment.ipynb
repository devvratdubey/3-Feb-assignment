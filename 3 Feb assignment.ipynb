{
 "cells": [
  {
   "cell_type": "markdown",
   "id": "b79181ca-7f2a-43f0-9cb7-6601f66b4191",
   "metadata": {},
   "source": [
    "\n",
    "def keyword is used to create a function"
   ]
  },
  {
   "cell_type": "code",
   "execution_count": 32,
   "id": "3ee4340f-6dfc-42db-98e5-d06a5c51a0ef",
   "metadata": {},
   "outputs": [],
   "source": [
    "#q1  odd number in the range of 1 to 25\n",
    "def oddnumbers(n):\n",
    "    a=[]\n",
    "    if n>=25:\n",
    "        for i in range(1,26):\n",
    "            if i%2!=0:\n",
    "                a.append(i)\n",
    "        return a\n",
    "    else:\n",
    "        for j in range(1,n+1):\n",
    "            if j%2!=0:\n",
    "                a.append(j)\n",
    "        return a\n",
    "            \n",
    "            "
   ]
  },
  {
   "cell_type": "code",
   "execution_count": 6,
   "id": "ea944216-e437-4e94-bd6f-4903d304972f",
   "metadata": {},
   "outputs": [
    {
     "data": {
      "text/plain": [
       "[1, 3, 5, 7, 9, 11, 13, 15, 17, 19, 21, 23, 25]"
      ]
     },
     "execution_count": 6,
     "metadata": {},
     "output_type": "execute_result"
    }
   ],
   "source": [
    "oddnumbers(100)"
   ]
  },
  {
   "cell_type": "markdown",
   "id": "67c08e73-4414-46fe-9a0f-b36a7461e715",
   "metadata": {},
   "source": [
    "q2answer\n",
    "\n",
    "suppose we want to make a function which adds two number \n",
    "def add(a,b):\n",
    "    return a+b\n",
    "suppose if we want toa dd 3 numbers so we have to pass 3 numbers in function so we have to modify the above function\n",
    "def add(a,b,c):\n",
    "    return a+b+c\n",
    "suppose if we want to add 4 numbers then again we have to modify for 4 numbers\n",
    "then here comes the role of *args and **kwargs\n",
    "we can use *args and **kwargs when we are unsure about the number of arguments to pass in a function"
   ]
  },
  {
   "cell_type": "code",
   "execution_count": 7,
   "id": "603e60a2-5a48-4bda-9b68-eb110735bcda",
   "metadata": {},
   "outputs": [],
   "source": [
    "# using *args\n",
    "def add(*args):\n",
    "    \"\"\"*args allows us to pass a variable number of non-keyword arguments to a Python function.\n",
    "    In the function, we should use an asterisk (*) before the parameter name to pass a variable number of arguments.\n",
    "    \"\"\"\n",
    "    total=0\n",
    "    for i in args:\n",
    "        total=total+i\n",
    "    return total"
   ]
  },
  {
   "cell_type": "code",
   "execution_count": 8,
   "id": "bfce0fb5-56f1-4779-aff2-44757121a74b",
   "metadata": {},
   "outputs": [
    {
     "data": {
      "text/plain": [
       "18"
      ]
     },
     "execution_count": 8,
     "metadata": {},
     "output_type": "execute_result"
    }
   ],
   "source": [
    "add(3,4,5,6)"
   ]
  },
  {
   "cell_type": "code",
   "execution_count": 9,
   "id": "6ee31898-60a4-4525-8b86-c5e218fbabcd",
   "metadata": {},
   "outputs": [],
   "source": [
    "#using kwargs\n",
    "def keywordarg(**kwargs):\n",
    "    \"\"\"\n",
    "    **kwargs allows us to pass a variable number of keyword arguments to a Python function.\n",
    "    In the function, we use the double-asterisk (**) before the parameter name to denote this type of argument.\n",
    "    \"\"\"\n",
    "    return kwargs"
   ]
  },
  {
   "cell_type": "code",
   "execution_count": 10,
   "id": "c349dee7-d921-4d6b-a25d-48021a4d4ad2",
   "metadata": {},
   "outputs": [
    {
     "data": {
      "text/plain": [
       "{'banana': 5, 'apple': 4, 'orange': 7, 'papaya': 10}"
      ]
     },
     "execution_count": 10,
     "metadata": {},
     "output_type": "execute_result"
    }
   ],
   "source": [
    "keywordarg(banana=5,apple=4,orange=7,papaya=10)"
   ]
  },
  {
   "cell_type": "markdown",
   "id": "3984a734-132f-4b2b-8299-9282b577a91c",
   "metadata": {},
   "source": [
    "Thus we see that the arguments, in this case, are passed as a dictionary and these arguments make a dictionary inside the function with name same as the parameter excluding **."
   ]
  },
  {
   "cell_type": "code",
   "execution_count": 11,
   "id": "d1afd0f5-df61-4807-be18-e659f1c55dbc",
   "metadata": {},
   "outputs": [],
   "source": [
    "#now lets calulate the total no of fruits\n",
    "def fruitcalculator(**kwargs):\n",
    "    total=0\n",
    "    for i in kwargs.values():\n",
    "        total=total+i\n",
    "    return total"
   ]
  },
  {
   "cell_type": "code",
   "execution_count": 12,
   "id": "89694df4-0823-4850-935e-cbd7528022fd",
   "metadata": {},
   "outputs": [
    {
     "data": {
      "text/plain": [
       "26"
      ]
     },
     "execution_count": 12,
     "metadata": {},
     "output_type": "execute_result"
    }
   ],
   "source": [
    "fruitcalculator(banana=5,apple=4,orange=7,papaya=10)"
   ]
  },
  {
   "cell_type": "markdown",
   "id": "644db5c3-d6fc-49e5-a001-b3404f27b58f",
   "metadata": {},
   "source": [
    "q3answer\n",
    "\n",
    "An iterator is an object that contains a countable number of values.\n",
    "\n",
    "An iterator is an object that can be iterated upon, meaning that you can traverse through all the values.\n",
    "\n",
    "Technically, in Python, an iterator is an object which implements the iterator protocol, which consist of the methods iter() and next()\n",
    "\n",
    "Lists, tuples, dictionaries, and sets are all iterable objects."
   ]
  },
  {
   "cell_type": "code",
   "execution_count": 14,
   "id": "8c62bfee-1973-47d9-b451-610f169f9129",
   "metadata": {},
   "outputs": [],
   "source": [
    "a=[1,2,3,4,5,6]# this is an iterable not an iterator\n",
    "b=(1,2,3,4,5,6)#this is an iterable not an iterator\n",
    "#similarly for dict and sets\n",
    "#to convert iterable into iterator use iter()\n",
    "x=iter(a)\n",
    "y=iter(b)"
   ]
  },
  {
   "cell_type": "code",
   "execution_count": 15,
   "id": "5a333bf7-3462-4c65-ae11-e56780000762",
   "metadata": {},
   "outputs": [
    {
     "data": {
      "text/plain": [
       "list_iterator"
      ]
     },
     "execution_count": 15,
     "metadata": {},
     "output_type": "execute_result"
    }
   ],
   "source": [
    "type(x)"
   ]
  },
  {
   "cell_type": "code",
   "execution_count": 16,
   "id": "ee8f5333-999e-4973-9e0c-5de8515d3fef",
   "metadata": {},
   "outputs": [
    {
     "data": {
      "text/plain": [
       "tuple_iterator"
      ]
     },
     "execution_count": 16,
     "metadata": {},
     "output_type": "execute_result"
    }
   ],
   "source": [
    "type(y)"
   ]
  },
  {
   "cell_type": "code",
   "execution_count": 17,
   "id": "171d977c-e4e5-4627-8810-e3b593d556c4",
   "metadata": {},
   "outputs": [
    {
     "data": {
      "text/plain": [
       "1"
      ]
     },
     "execution_count": 17,
     "metadata": {},
     "output_type": "execute_result"
    }
   ],
   "source": [
    "next(iter(x))# now the 1st element is accessed in iterator"
   ]
  },
  {
   "cell_type": "code",
   "execution_count": 18,
   "id": "df31abdc-3afb-479c-aada-4318a970e2f8",
   "metadata": {},
   "outputs": [
    {
     "data": {
      "text/plain": [
       "2"
      ]
     },
     "execution_count": 18,
     "metadata": {},
     "output_type": "execute_result"
    }
   ],
   "source": [
    "next(iter(x))#now the 2nd element is acessed in iterator"
   ]
  },
  {
   "cell_type": "code",
   "execution_count": 19,
   "id": "16f29e08-3daf-4c87-b05b-20748a8eded7",
   "metadata": {},
   "outputs": [
    {
     "data": {
      "text/plain": [
       "3"
      ]
     },
     "execution_count": 19,
     "metadata": {},
     "output_type": "execute_result"
    }
   ],
   "source": [
    "next(iter(x))#now the 3rd element is acessed in iterator it will continue till  last elementand after that it will stop iterating"
   ]
  },
  {
   "cell_type": "markdown",
   "id": "33146df8-f04a-4027-9d23-0ba11f3e28e8",
   "metadata": {},
   "source": [
    "iter() method is used to initialize the iterator object so that the instance of this object can be used for iterating\n",
    "and next() is used for iteration on the iterator"
   ]
  },
  {
   "cell_type": "code",
   "execution_count": 21,
   "id": "c5f23633-8e38-4594-bf04-b09d17db142a",
   "metadata": {},
   "outputs": [],
   "source": [
    "a=[2,4,6,8,10,12,14,16,18,20]"
   ]
  },
  {
   "cell_type": "code",
   "execution_count": 22,
   "id": "e3864fef-88be-4f5c-8682-97937d0084d6",
   "metadata": {},
   "outputs": [
    {
     "name": "stdout",
     "output_type": "stream",
     "text": [
      "2\n",
      "4\n",
      "6\n",
      "8\n",
      "10\n"
     ]
    }
   ],
   "source": [
    "b=iter(a)\n",
    "for i in range(5):\n",
    "    print(next(b))"
   ]
  },
  {
   "cell_type": "markdown",
   "id": "cfae4b61-e556-40ac-9395-d39650278d28",
   "metadata": {},
   "source": [
    "q4answer\n",
    "\n",
    "Generator-Function: A generator-function is defined like a normal function, but whenever it needs to generate a value, it does so with the yield keyword rather than return. If the body of a def contains yield, the function automatically becomes a generator function.\n",
    "\n",
    "Generator-Object : Generator functions return a generator object. Generator objects are used either by calling the next method on the generator object or using the generator object in a “for in” loop \n",
    "\n",
    "So a generator function returns an generator object that is iterable, i.e., can be used as an Iterators . As another example, below is a generator for Fibonacci Numbers. "
   ]
  },
  {
   "cell_type": "code",
   "execution_count": 33,
   "id": "8be92d26-5fa6-41f7-be30-536c2ec92035",
   "metadata": {},
   "outputs": [],
   "source": [
    "#generator function example\n",
    "def fibonacci():\n",
    "    a,b=0,1\n",
    "    while True:\n",
    "        yield a #generator object\n",
    "        a=b\n",
    "        b=a+b"
   ]
  },
  {
   "cell_type": "code",
   "execution_count": 34,
   "id": "70d5749b-fbaf-4402-a49c-9c7ba4e53c22",
   "metadata": {},
   "outputs": [
    {
     "name": "stdout",
     "output_type": "stream",
     "text": [
      "0\n",
      "1\n",
      "2\n",
      "4\n",
      "8\n",
      "16\n",
      "32\n",
      "64\n",
      "128\n",
      "256\n"
     ]
    }
   ],
   "source": [
    "fib=fibonacci() #generator object which is iterable\n",
    "for i in range(10):\n",
    "    print(next(fib))"
   ]
  },
  {
   "cell_type": "code",
   "execution_count": 26,
   "id": "d94a1483-d14e-46ce-a571-0393cd96fef8",
   "metadata": {},
   "outputs": [
    {
     "name": "stdout",
     "output_type": "stream",
     "text": [
      "2\n",
      "3\n",
      "5\n",
      "7\n",
      "11\n",
      "13\n",
      "17\n",
      "19\n",
      "23\n",
      "29\n",
      "31\n",
      "37\n",
      "41\n",
      "43\n",
      "47\n",
      "53\n",
      "59\n",
      "61\n",
      "67\n",
      "71\n"
     ]
    }
   ],
   "source": [
    "#q5 answer\n",
    "def primechecker(n):\n",
    "    if n>1:\n",
    "        for i in range(2,int(n**0.5)+1):\n",
    "            if n%i==0:\n",
    "                return False\n",
    "        else:\n",
    "            return True\n",
    "    return False\n",
    "def prime():\n",
    "    i=2\n",
    "    while i<1000:\n",
    "        if primechecker(i)==1:\n",
    "            yield i\n",
    "        i=i+1 \n",
    "x=prime()\n",
    "for j in range(20):\n",
    "    print(next(x))"
   ]
  },
  {
   "cell_type": "code",
   "execution_count": 27,
   "id": "05544e4f-dc07-4a67-8b2e-5f6156c09bdb",
   "metadata": {},
   "outputs": [
    {
     "name": "stdout",
     "output_type": "stream",
     "text": [
      "0 1 1 2 3 5 8 13 21 34 "
     ]
    }
   ],
   "source": [
    "#q6 answer\n",
    "#fibonacci using while loop:\n",
    "n=10\n",
    "i=0\n",
    "a=0\n",
    "b=1\n",
    "while i <n:\n",
    "    print(a,end=\" \")\n",
    "    c=a+b\n",
    "    a=b\n",
    "    b=c\n",
    "    i=i+1\n",
    "    "
   ]
  },
  {
   "cell_type": "code",
   "execution_count": 29,
   "id": "72a01ae8-6525-47d8-9ad7-a38ab85bcad5",
   "metadata": {},
   "outputs": [
    {
     "name": "stdout",
     "output_type": "stream",
     "text": [
      "['p', 'w', 's', 'k', 'i', 'l', 'l', 's']\n"
     ]
    }
   ],
   "source": [
    "#q7answer\n",
    "a=[i for i in \"pwskills\"]\n",
    "print(a)"
   ]
  },
  {
   "cell_type": "code",
   "execution_count": 30,
   "id": "5cebf7bf-569a-4757-a1a3-a6fab11dd5d8",
   "metadata": {},
   "outputs": [
    {
     "name": "stdin",
     "output_type": "stream",
     "text": [
      "Enter a number 123321\n"
     ]
    },
    {
     "name": "stdout",
     "output_type": "stream",
     "text": [
      "It is a Palindrome\n"
     ]
    }
   ],
   "source": [
    "#q8 answer\n",
    "#prgoram to check the number is palindrome\n",
    "n=int(input(\"Enter a number\"))\n",
    "n=str(n)\n",
    "i=0\n",
    "x=len(n)\n",
    "while i<x//2:\n",
    "    if n[i]==n[x-i-1]:\n",
    "        i=i+1\n",
    "    else:\n",
    "        print(\"Not a palindrome\")\n",
    "        break\n",
    "if i==x//2:\n",
    "    print(\"It is a Palindrome\")"
   ]
  },
  {
   "cell_type": "code",
   "execution_count": 31,
   "id": "6b7f906b-8203-43dd-ba1d-1c8304dfed03",
   "metadata": {},
   "outputs": [
    {
     "name": "stdout",
     "output_type": "stream",
     "text": [
      "1\n",
      "3\n",
      "5\n",
      "7\n",
      "9\n",
      "11\n",
      "13\n",
      "15\n",
      "17\n",
      "19\n",
      "21\n",
      "23\n",
      "25\n",
      "27\n",
      "29\n",
      "31\n",
      "33\n",
      "35\n",
      "37\n",
      "39\n",
      "41\n",
      "43\n",
      "45\n",
      "47\n",
      "49\n",
      "51\n",
      "53\n",
      "55\n",
      "57\n",
      "59\n",
      "61\n",
      "63\n",
      "65\n",
      "67\n",
      "69\n",
      "71\n",
      "73\n",
      "75\n",
      "77\n",
      "79\n",
      "81\n",
      "83\n",
      "85\n",
      "87\n",
      "89\n",
      "91\n",
      "93\n",
      "95\n",
      "97\n",
      "99\n"
     ]
    }
   ],
   "source": [
    "#q9 answer\n",
    "# print odd numbers from 1 to 100\n",
    "for j in [i for i in range(1,101) if i%2!=0]:\n",
    "    print(j)"
   ]
  },
  {
   "cell_type": "code",
   "execution_count": null,
   "id": "1540e7f0-5d13-4409-a286-d9a21a7ea988",
   "metadata": {},
   "outputs": [],
   "source": []
  }
 ],
 "metadata": {
  "kernelspec": {
   "display_name": "Python 3 (ipykernel)",
   "language": "python",
   "name": "python3"
  },
  "language_info": {
   "codemirror_mode": {
    "name": "ipython",
    "version": 3
   },
   "file_extension": ".py",
   "mimetype": "text/x-python",
   "name": "python",
   "nbconvert_exporter": "python",
   "pygments_lexer": "ipython3",
   "version": "3.10.8"
  }
 },
 "nbformat": 4,
 "nbformat_minor": 5
}
